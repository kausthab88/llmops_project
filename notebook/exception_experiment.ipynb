{
 "cells": [
  {
   "cell_type": "code",
   "execution_count": 1,
   "id": "fe976346",
   "metadata": {},
   "outputs": [
    {
     "name": "stdout",
     "output_type": "stream",
     "text": [
      "all ok\n"
     ]
    }
   ],
   "source": [
    "print('all ok')"
   ]
  },
  {
   "cell_type": "code",
   "execution_count": 6,
   "id": "b0bc816b",
   "metadata": {},
   "outputs": [],
   "source": [
    "from logger.custom_logger import CustomLogger"
   ]
  },
  {
   "cell_type": "code",
   "execution_count": 7,
   "id": "2d21ae60",
   "metadata": {},
   "outputs": [],
   "source": [
    "logger = CustomLogger.get_logger(\"exception_experiment\")"
   ]
  },
  {
   "cell_type": "code",
   "execution_count": 8,
   "id": "ca1b43c4",
   "metadata": {},
   "outputs": [
    {
     "name": "stderr",
     "output_type": "stream",
     "text": [
      "\n",
      "            Error in [C:\\Users\\KAUSTHAB DUTTA\\AppData\\Local\\Temp\\ipykernel_25500\\1771838023.py] at line [21]\n",
      "            Message: division by zero\n",
      "            Traceback:\n",
      "            Traceback (most recent call last):\n",
      "  File \"C:\\Users\\KAUSTHAB DUTTA\\AppData\\Local\\Temp\\ipykernel_25500\\1771838023.py\", line 21, in <module>\n",
      "    a = 1/0\n",
      "ZeroDivisionError: division by zero\n",
      "\n",
      "        \n"
     ]
    },
    {
     "ename": "DocumentPortalException",
     "evalue": "\n            Error in [C:\\Users\\KAUSTHAB DUTTA\\AppData\\Local\\Temp\\ipykernel_25500\\1771838023.py] at line [21]\n            Message: division by zero\n            Traceback:\n            Traceback (most recent call last):\n  File \"C:\\Users\\KAUSTHAB DUTTA\\AppData\\Local\\Temp\\ipykernel_25500\\1771838023.py\", line 21, in <module>\n    a = 1/0\nZeroDivisionError: division by zero\n\n        ",
     "output_type": "error",
     "traceback": [
      "\u001b[1;31m---------------------------------------------------------------------------\u001b[0m",
      "\u001b[1;31mZeroDivisionError\u001b[0m                         Traceback (most recent call last)",
      "Cell \u001b[1;32mIn[8], line 21\u001b[0m\n\u001b[0;32m     20\u001b[0m \u001b[38;5;28;01mtry\u001b[39;00m:\n\u001b[1;32m---> 21\u001b[0m      a \u001b[38;5;241m=\u001b[39m \u001b[38;5;241;43m1\u001b[39;49m\u001b[38;5;241;43m/\u001b[39;49m\u001b[38;5;241;43m0\u001b[39;49m\n\u001b[0;32m     22\u001b[0m      \u001b[38;5;28mprint\u001b[39m(a)\n",
      "\u001b[1;31mZeroDivisionError\u001b[0m: division by zero",
      "\nDuring handling of the above exception, another exception occurred:\n",
      "\u001b[1;31mDocumentPortalException\u001b[0m                   Traceback (most recent call last)",
      "Cell \u001b[1;32mIn[8], line 26\u001b[0m\n\u001b[0;32m     24\u001b[0m app_exc \u001b[38;5;241m=\u001b[39m DocumentPortalException(e,sys)\n\u001b[0;32m     25\u001b[0m logger\u001b[38;5;241m.\u001b[39merror(app_exc)\n\u001b[1;32m---> 26\u001b[0m \u001b[38;5;28;01mraise\u001b[39;00m app_exc\n",
      "\u001b[1;31mDocumentPortalException\u001b[0m: \n            Error in [C:\\Users\\KAUSTHAB DUTTA\\AppData\\Local\\Temp\\ipykernel_25500\\1771838023.py] at line [21]\n            Message: division by zero\n            Traceback:\n            Traceback (most recent call last):\n  File \"C:\\Users\\KAUSTHAB DUTTA\\AppData\\Local\\Temp\\ipykernel_25500\\1771838023.py\", line 21, in <module>\n    a = 1/0\nZeroDivisionError: division by zero\n\n        "
     ]
    }
   ],
   "source": [
    "import sys\n",
    "import traceback\n",
    "class DocumentPortalException(Exception): #custom exception class that is going to inherit the Exception Class\n",
    "    \"\"\"Custom exception for Document Portal\"\"\"\n",
    "    def __init__(self, error_message,error_details:sys): #the init method here takes the error message and the system module\n",
    "        _,_,exc_tb = error_details.exc_info() #here there is error details. the exc_nfo gives the complete details of the traceback\n",
    "        self.file_name = exc_tb.tb_frame.f_code.co_filename\n",
    "        self.lineno = exc_tb.tb_lineno\n",
    "        self.error_message=str(error_message)\n",
    "        self.traceback_str = ''.join(traceback.format_exception(*error_details.exc_info())) #this captures more info about the error\n",
    "    def __str__(self):\n",
    "        return f\"\"\"\n",
    "            Error in [{self.file_name}] at line [{self.lineno}]\n",
    "            Message: {self.error_message}\n",
    "            Traceback:\n",
    "            {self.traceback_str}\n",
    "        \"\"\"\n",
    "\n",
    "if __name__ == \"__main__\":\n",
    "    try:\n",
    "         a = 1/0\n",
    "         print(a)\n",
    "    except Exception as e:\n",
    "        app_exc = DocumentPortalException(e,sys)\n",
    "        logger.error(app_exc)\n",
    "        raise app_exc\n"
   ]
  },
  {
   "cell_type": "code",
   "execution_count": null,
   "id": "edf3f2ee",
   "metadata": {},
   "outputs": [],
   "source": []
  },
  {
   "cell_type": "code",
   "execution_count": null,
   "id": "99c3966d",
   "metadata": {},
   "outputs": [],
   "source": []
  },
  {
   "cell_type": "code",
   "execution_count": null,
   "id": "f18f156e",
   "metadata": {},
   "outputs": [],
   "source": []
  },
  {
   "cell_type": "code",
   "execution_count": null,
   "id": "a038129d",
   "metadata": {},
   "outputs": [],
   "source": []
  },
  {
   "cell_type": "code",
   "execution_count": null,
   "id": "1bc66377",
   "metadata": {},
   "outputs": [],
   "source": []
  },
  {
   "cell_type": "code",
   "execution_count": null,
   "id": "a1ec0d31",
   "metadata": {},
   "outputs": [],
   "source": []
  },
  {
   "cell_type": "code",
   "execution_count": null,
   "id": "bf9ebb72",
   "metadata": {},
   "outputs": [],
   "source": []
  },
  {
   "cell_type": "code",
   "execution_count": null,
   "id": "5f2f18e2",
   "metadata": {},
   "outputs": [],
   "source": []
  },
  {
   "cell_type": "code",
   "execution_count": null,
   "id": "eaf70475",
   "metadata": {},
   "outputs": [],
   "source": []
  },
  {
   "cell_type": "code",
   "execution_count": null,
   "id": "fe9355eb",
   "metadata": {},
   "outputs": [],
   "source": []
  },
  {
   "cell_type": "code",
   "execution_count": null,
   "id": "907270ea",
   "metadata": {},
   "outputs": [],
   "source": []
  }
 ],
 "metadata": {
  "kernelspec": {
   "display_name": "env",
   "language": "python",
   "name": "python3"
  },
  "language_info": {
   "codemirror_mode": {
    "name": "ipython",
    "version": 3
   },
   "file_extension": ".py",
   "mimetype": "text/x-python",
   "name": "python",
   "nbconvert_exporter": "python",
   "pygments_lexer": "ipython3",
   "version": "3.10.8"
  }
 },
 "nbformat": 4,
 "nbformat_minor": 5
}
